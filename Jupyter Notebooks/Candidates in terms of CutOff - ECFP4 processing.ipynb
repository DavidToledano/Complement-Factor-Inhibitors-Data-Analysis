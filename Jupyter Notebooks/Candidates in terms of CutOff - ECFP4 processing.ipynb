{
 "cells": [
  {
   "cell_type": "code",
   "execution_count": 1,
   "metadata": {},
   "outputs": [],
   "source": [
    "#Imports\n",
    "import pandas as pd\n",
    "\n",
    "#Data File\n",
    "df = pd.read_excel('list_of_molecules.xlsx',sheet_name=\"Sheet1\")"
   ]
  },
  {
   "cell_type": "code",
   "execution_count": 2,
   "metadata": {},
   "outputs": [],
   "source": [
    "df_ECFP4 = df[['COMPOUND_ID', 'Cluster', 'Rosmarinic_ClosestSimilarities_ECFP4', 'SB_ClosestSimilarities_ECFP4' ]]"
   ]
  },
  {
   "cell_type": "code",
   "execution_count": 3,
   "metadata": {},
   "outputs": [],
   "source": [
    "df_ECFP4 = df_ECFP4[~(df_ECFP4['Rosmarinic_ClosestSimilarities_ECFP4'].isnull() | df_ECFP4['SB_ClosestSimilarities_ECFP4'].isnull())]"
   ]
  },
  {
   "cell_type": "code",
   "execution_count": 6,
   "metadata": {},
   "outputs": [],
   "source": [
    "df_ECFP4_CutOff_RA_4pct = df_ECFP4[df_ECFP4['Rosmarinic_ClosestSimilarities_ECFP4'] >= 0.4].sort_values(by=['Cluster'])"
   ]
  },
  {
   "cell_type": "code",
   "execution_count": 10,
   "metadata": {},
   "outputs": [
    {
     "data": {
      "text/plain": [
       "array([ 2, 15, 27, 30, 31, 36, 39, 42, 44, 45, 49])"
      ]
     },
     "execution_count": 10,
     "metadata": {},
     "output_type": "execute_result"
    }
   ],
   "source": [
    "df_ECFP4_CutOff_RA_4pct['Cluster'].unique()"
   ]
  },
  {
   "cell_type": "code",
   "execution_count": null,
   "metadata": {},
   "outputs": [],
   "source": []
  }
 ],
 "metadata": {
  "kernelspec": {
   "display_name": "Python 3",
   "language": "python",
   "name": "python3"
  },
  "language_info": {
   "codemirror_mode": {
    "name": "ipython",
    "version": 3
   },
   "file_extension": ".py",
   "mimetype": "text/x-python",
   "name": "python",
   "nbconvert_exporter": "python",
   "pygments_lexer": "ipython3",
   "version": "3.8.3"
  }
 },
 "nbformat": 4,
 "nbformat_minor": 4
}
